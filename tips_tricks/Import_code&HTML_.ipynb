{
  "nbformat": 4,
  "nbformat_minor": 0,
  "metadata": {
    "colab": {
      "name": "Import_code&HTML .ipynb",
      "provenance": [],
      "collapsed_sections": []
    },
    "kernelspec": {
      "name": "python3",
      "display_name": "Python 3"
    }
  },
  "cells": [
    {
      "cell_type": "markdown",
      "metadata": {
        "id": "y_uEEJM3XjQj",
        "colab_type": "text"
      },
      "source": [
        "# Import Github files\n",
        "We will see how we can load some code and read some html from files in Github. This way, we hope to lighten our notebooks a bit."
      ]
    },
    {
      "cell_type": "markdown",
      "metadata": {
        "id": "s0E0lHV920tD",
        "colab_type": "text"
      },
      "source": [
        "## Import code\n",
        "If you feel like your notebook is overflowed by code you have already explained before, you can actually put your code online (with github for example) and then import it.  Lot more easy than having a super lengthy notebook or having to execute a ton of cell before launching your main functionalities. <br>\n",
        "Warning : if you want to do this with github, be sure to use the link to the raw document (https://raw.githubusercontent.com/...) , and not just the front link (https://github.com/...)."
      ]
    },
    {
      "cell_type": "code",
      "metadata": {
        "id": "5llM3FgW2sb2",
        "colab_type": "code",
        "colab": {}
      },
      "source": [
        "import requests\n",
        "\n",
        "# the location of your code online\n",
        "url_code = \"https://raw.githubusercontent.com/Erffa/Automatic-Signal-Detector/master/tips_tricks/example.py\"\n",
        "# a request to get the content of the url\n",
        "request_code = requests.get(url_code, allow_redirects=True)\n",
        "# decode and exec the code\n",
        "exec(request_code.content.decode(\"utf-8\"))"
      ],
      "execution_count": 0,
      "outputs": []
    },
    {
      "cell_type": "markdown",
      "metadata": {
        "id": "mFpGO5DE4LWB",
        "colab_type": "text"
      },
      "source": [
        "In this document, I put a variable, a function and a class. It also do the imports. <br>\n",
        " We check if everything is loaded :"
      ]
    },
    {
      "cell_type": "code",
      "metadata": {
        "id": "7yLK-iRu3sd1",
        "colab_type": "code",
        "outputId": "1a812ac6-6ab2-4ad5-93c0-de4ab75cf34f",
        "colab": {
          "base_uri": "https://localhost:8080/",
          "height": 35
        }
      },
      "source": [
        "print(\"myvar : {}\".format(myvar))"
      ],
      "execution_count": 4,
      "outputs": [
        {
          "output_type": "stream",
          "text": [
            "myvar : Hello in there\n"
          ],
          "name": "stdout"
        }
      ]
    },
    {
      "cell_type": "code",
      "metadata": {
        "id": "Oss2HjV64qrs",
        "colab_type": "code",
        "outputId": "d718b7a9-8594-4237-b11d-f5e7517ddbb8",
        "colab": {
          "base_uri": "https://localhost:8080/",
          "height": 265
        }
      },
      "source": [
        "x = np.linspace(0,10)\n",
        "y = myfunction(x)\n",
        "plt.plot(x,y)\n",
        "plt.show()"
      ],
      "execution_count": 5,
      "outputs": [
        {
          "output_type": "display_data",
          "data": {
            "image/png": "[encoded data removed]",
            "text/plain": [
              "<Figure size 432x288 with 1 Axes>"
            ]
          },
          "metadata": {
            "tags": [],
            "needs_background": "light"
          }
        }
      ]
    },
    {
      "cell_type": "code",
      "metadata": {
        "id": "bgMHU8zw4ypM",
        "colab_type": "code",
        "outputId": "83d82f70-d62d-4369-bbde-b6ad7d04f9a2",
        "colab": {
          "base_uri": "https://localhost:8080/",
          "height": 54
        }
      },
      "source": [
        "c = MyClass(\"I'm the beast I worship\")\n",
        "c.display()"
      ],
      "execution_count": 6,
      "outputs": [
        {
          "output_type": "stream",
          "text": [
            "Here is the class\n",
            "You gave the arg I'm the beast I worship\n"
          ],
          "name": "stdout"
        }
      ]
    },
    {
      "cell_type": "markdown",
      "metadata": {
        "id": "faZk7cLz5E7k",
        "colab_type": "text"
      },
      "source": [
        "## Import HTML\n",
        "For the same reason, if you have written a lot of HTML to make your interface, you can also import it using the same trick like so :"
      ]
    },
    {
      "cell_type": "code",
      "metadata": {
        "id": "r1kDzAmf5Q1_",
        "colab_type": "code",
        "colab": {}
      },
      "source": [
        "import requests\n",
        "from IPython.display import display, HTML\n",
        "\n",
        "# the location of your code online\n",
        "url_html = \"https://raw.githubusercontent.com/Erffa/Automatic-Signal-Detector/master/interface.html\"\n",
        "# a request to get the content of the url\n",
        "request_html = requests.get(url_html, allow_redirects=True)\n",
        "# decode and exec the code\n",
        "html = HTML(request_html.content.decode(\"utf-8\"))"
      ],
      "execution_count": 0,
      "outputs": []
    },
    {
      "cell_type": "code",
      "metadata": {
        "id": "qPS5UNcv54n4",
        "colab_type": "code",
        "outputId": "df54c007-0e03-4e73-98db-4c00e51640d4",
        "colab": {
          "base_uri": "https://localhost:8080/",
          "height": 654
        }
      },
      "source": [
        "display(html)"
      ],
      "execution_count": 8,
      "outputs": [
        {
          "output_type": "display_data",
          "data": {
            "text/html": [
              "<!DOCTYPE html>\n",
              "<html lang=\"en\">\n",
              "<head>\n",
              "\t<title>CVML Project</title>\n",
              "\t<meta charset='utf-8'>\n",
              "\t<meta name=\"viewport\" content=\"width=device-width, initial-scale=1.0\">\n",
              "\t<meta http-equiv=\"X-UA-Compatible\" content=\"ie=edge\">\n",
              "\t<link href='https://fonts.googleapis.com/css?family=Stalemate' rel='stylesheet'>\n",
              "\t<style>\n",
              "\n",
              "/* la page */\n",
              "body {\n",
              "\tposition: relative;\n",
              "\theight: 638px;\n",
              "\tbackground-image:  url(\"https://cdn.pixabay.com/photo/2018/04/13/14/56/flower-3316681_960_720.jpg\");\n",
              "\tbackground-color: #cca0bb;\n",
              "\tfont-family: 'Stalemate';\n",
              "\tline-height: normal;\n",
              "\tmargin: 0px;\n",
              "\tpadding: 8px;\n",
              "}\n",
              "\n",
              "/* général */\n",
              ".panel {\n",
              "\tbackground-color: #ff989877;\n",
              "\toutline: 5px solid #f9454577;\n",
              "\toutline-offset: 0px;\n",
              "\toverflow: hidden;\n",
              "}\n",
              ".panel .title {\n",
              "\theight: 42px;\n",
              "\tfont-size: 37px;\n",
              "\ttext-align: center;\n",
              "}\n",
              ".but {\n",
              "\tfont: italic 25px 'Stalemate';\n",
              "\tcolor: red;\n",
              "\ttext-align: center;\n",
              "\tbackground-color: #fbfd5ccc;\n",
              "\tborder: 2px solid #ffde43cc;\n",
              "\ttransition-duration: 0.4s;\n",
              "\tborder-radius: 5px;\n",
              "}\n",
              ".but:hover {\n",
              "\tbackground-color: #fbfd5c;\n",
              "}\n",
              "\n",
              "\n",
              ".area {\n",
              "\tposition: relative;\n",
              "\tfloat: left;\n",
              "\theight: 600px;\n",
              "\tmargin: 20px;\n",
              "}\n",
              "\n",
              "/* the left part */\n",
              "#left-area, #left-area .panel {\n",
              "\twidth: 180px;\n",
              "}\n",
              "#left-area .panel {\n",
              "\tmargin-bottom: 20px;\n",
              "}\n",
              ".but-handler {\n",
              "\tpadding: 0px 10px 10px 10px;\n",
              "}\n",
              ".but-handler .but {\n",
              "\tfloat: left;\n",
              "\twidth: 70px;\n",
              "\theight: 40px;\n",
              "\tmargin: 0px 5px 10px 5px;\n",
              "}\n",
              "\n",
              "/* - webcam-panel */\n",
              "/* -- video -- */\n",
              "#webcam-handler {\n",
              "\twidth: 180px;\n",
              "\theight: 140px\n",
              "}\n",
              "#webcam {\n",
              "\twidth:160px;\n",
              "\theight:120px;\t\n",
              "\tmargin: 10px;\n",
              "\ttransform: scaleX(-1);\n",
              "\tbackground-color: #cca0bbaa;\n",
              "}\n",
              "/* - camshift - */\n",
              "#camshift-panel .but-handler {\n",
              "\tmargin-top: 17px;\n",
              "}\n",
              "\n",
              "/* - hsv - */\n",
              "input {\n",
              "\ttext-align: right; \n",
              "\twidth: 40px;x\n",
              "}\n",
              "\n",
              "\n",
              "/* img panel */\n",
              "#middle-area {\n",
              "\twidth: 680px;\n",
              "}\n",
              "\n",
              "#img-panel {\n",
              "\tposition: absolute;\n",
              "\tpadding: 20px;\n",
              "}\n",
              "#image {\n",
              "\tmargin-top: 15px;\n",
              "\theight: 480px;\n",
              "\twidth: 640px;\n",
              "}\n",
              "/* - memo - */\n",
              "#myImg {\n",
              "  border-radius: 5px;\n",
              "  cursor: pointer;\n",
              "  transition: 0.3s;\n",
              "}\n",
              ".modal {\n",
              "  display: none; /* Hidden by default */\n",
              "  position: fixed; /* Stay in place */\n",
              "  z-index: 1; /* Sit on top */\n",
              "  padding-top: 100px; /* Location of the box */\n",
              "  left: 0;\n",
              "  top: 0;\n",
              "  width: 100%; /* Full width */\n",
              "  height: 100%; /* Full height */\n",
              "  overflow: auto; /* Enable scroll if needed */\n",
              "  background-color: rgb(0,0,0); /* Fallback color */\n",
              "  background-color: rgba(0,0,0,0.9); /* Black w/ opacity */\n",
              "}\n",
              ".modal-content {\n",
              "  margin: auto;\n",
              "  display: block;\n",
              "}\n",
              ".close {\n",
              "  position: absolute;\n",
              "  top: 15px;\n",
              "  right: 35px;\n",
              "  color: #f1f1f1;\n",
              "  font-size: 40px;\n",
              "  font-weight: bold;\n",
              "  transition: 0.3s;\n",
              "}\n",
              "\n",
              ".close:hover,\n",
              ".close:focus {\n",
              "  color: #bbb;\n",
              "  text-decoration: none;\n",
              "  cursor: pointer;\n",
              "}\n",
              "\n",
              "/* - data-panel */\n",
              "#right-area {\n",
              "\twidth: 180px;\n",
              "}\n",
              "#data-panel {\n",
              "\theight: 584px;\n",
              "}\n",
              "#table-handler {\n",
              "\tposition: relative;\n",
              "\tmargin-top: 15px;\n",
              "\toverflow-y: auto;\n",
              "\theight: 520px;\n",
              "}\n",
              "#data-panel table {\n",
              "\twidth: 164px;\n",
              "\ttable-layout: fixed;\n",
              "\ttext-align: center;\n",
              "\tbackground-color: #ffffff77;\n",
              "\tborder-collapse: collapse;\n",
              "\tborder-spacing: 0;\n",
              "\tborder: 1px solid #ddd;\n",
              "\tmargin: 0;\n",
              "}\n",
              "#data-panel table tr {\n",
              "\theight: 30px;\n",
              "}\n",
              "#data-panel table th {\n",
              "\tfont-size: 30px;\n",
              "\tfont-weight: normal;\n",
              "\tborder-bottom: 1px solid;\n",
              "    margin-bottom: -1px;\n",
              "}\n",
              "#data-panel table td {\n",
              "\tfont-style: bold;\n",
              "}\n",
              "/* - - tables - - */\n",
              "\n",
              "#tally td {\n",
              "\tfont-family: \"Arial\";\n",
              "\tfont-size: 14px;\n",
              "}\n",
              "\n",
              "\t</style>\n",
              "</head>\n",
              "<body>\n",
              "\n",
              "<div id=\"left-area\" class=\"area\">\n",
              "\n",
              "\t<div id=\"webcam-panel\" class=\"panel\">\n",
              "\t\t<div class=\"title\">Webcam :</div>\n",
              "\t\t<div id=\"webcam-handler\">\n",
              "\t\t\t<video id=\"webcam\" autoplay>Video stream not available.</video>\n",
              "\t\t</div>\n",
              "\t\t<div id=\"webcam-but-handler\" class=\"but-handler\">\n",
              "\t\t\t<button id=\"webcam-but-start\" class=\"but\">Start</button>\n",
              "\t\t\t<button id=\"webcam-but-stop\" class=\"but\">Stop</button>\n",
              "\t\t</div>\n",
              "\t</div>\n",
              "\n",
              "\t<div id=\"camshift-panel\" class=\"panel\">\n",
              "\t\t<div class=\"title\">Camshift :</div>\n",
              "\t\t<div id=\"camshift-but-handler\" class=\"but-handler\">\n",
              "\t\t\t<button id=\"camshift-but-start\" class=\"but\">Start</button>\n",
              "\t\t\t<button id=\"camshift-but-stop\" class=\"but\">Stop</button>\n",
              "\t\t</div>\n",
              "\t</div>\n",
              "\n",
              "\t<div id=\"HSV-div\" class=\"panel\">\n",
              "\t\t<div class=\"title\">HSV</div>\n",
              "\t\t<div id=\"HSV-table-handler\">\n",
              "\t\t\t<table id=\"HSV-table\">\n",
              "\t\t\t\t<tr><th></th><th>H</th><th>S</th><th>V</th></tr>\n",
              "\t\t\t\t<tr id=\"HSV-from\"><th>from</th>\n",
              "\t\t\t\t<td><input></td><td><input></td><td><input></td></tr>\n",
              "\t\t\t\t<tr id=\"HSV-to\">  <th>to</th>\n",
              "\t\t\t\t<td><input></td><td><input></td><td><input></td></tr>\n",
              "\t\t\t</table>\n",
              "\t\t</div>\n",
              "\t\t<div id=\"HSV-but-handler\" class=\"but-handler\">\n",
              "\t\t\t<button id=\"HSV-but-start\" class=\"but\">Start</button>\n",
              "\t\t\t<button id=\"HSV-but-stop\" class=\"but\">Stop</button>\n",
              "\t\t</div>\n",
              "\t</div>\n",
              "\n",
              "</div>\n",
              "\n",
              "<div id=\"middle-area\" class=\"area\">\n",
              "\t<div id=\"img-panel\" class=\"panel\">\n",
              "\t\t<div class=\"title\">\n",
              "\t\t\t<button id=\"memo\" class=\"but\">Memo</button>\n",
              "\t\t\t<div id=\"myModal\" class=\"modal\">\n",
              "\t\t\t\t<span class=\"close\">&times;</span>\n",
              "\t\t\t\t<img class=\"modal-content\" id=\"img01\" \n",
              "\t\t\t\tsrc=\"https://i.pinimg.com/originals/fa/bb/70/fabb7087b0cffe30530e7df9ec1d0b88.png\"\n",
              "\t\t\t\talt=\"hand sign\"\n",
              "\t\t\t\twidth=\"317\" height=\"450\">\n",
              "\t\t\t</div>\n",
              "\t\t</div>\n",
              "\t\t<img id=\"image\"></img>\n",
              "\t</div>\n",
              "</div>\n",
              "\n",
              "<div id=\"right-area\" class=\"area\">\n",
              "\t<div id=\"data-panel\" class=\"panel\">\n",
              "\t\t<div class=\"title\">Images :</div>\n",
              "\t\t<div id=\"table-handler\">\n",
              "\t\t\t<table><tr><th>letter</th><th>count</th></tr></table>\n",
              "\t\t\t<table id=\"tally\">\n",
              "<script>\n",
              "var alphabet = [\"A\",\"B\",\"C\",\"D\",\"E\",\"F\",\"G\",\"H\",\"I\",\"J\",\"K\",\"L\",\"M\",\"N\",\"O\",\"P\",\"Q\",\"R\",\"S\",\"T\",\"U\",\"V\",\"W\",\"X\",\"Y\",\"Z\"]\n",
              "var tally = document.getElementById(\"tally\")\n",
              "for (const idx in alphabet) {\n",
              "\tlet letter = alphabet[idx];\n",
              "\ttally.innerHTML += `<tr><td>${letter}</td><td id=\"letter-${letter}-count\">0</td></tr>`;\n",
              "}\n",
              "</script>\n",
              "\t\t\t</table>\n",
              "\t\t</div>\n",
              "\t</div>\n",
              "</div>\n",
              "\n",
              "\n",
              "</body>\n",
              "<script>\n",
              "\n",
              "// START AND STOP VIDEO\n",
              "var video = document.getElementById('webcam');// \n",
              "var stream = null; // the stream to listen to the webcam\n",
              "\n",
              "async function start () {\n",
              "\tif (stream === null) {\n",
              "\t\tstream = await navigator.mediaDevices.getUserMedia(\n",
              "\t\t{video: {facingMode: \"environment\"}});\n",
              "\t\tvideo.srcObject = stream;\n",
              "\t\tawait video.play();\n",
              "\t}\n",
              "}\n",
              "\n",
              "function stop () { \n",
              "\tif (stream !== null) {\n",
              "\t\tvideo.pause()\n",
              "\t\tstream.getTracks().forEach(function(track) { track.stop(); });\n",
              "\t\tstream = null;\n",
              "\t}\n",
              "}\n",
              "\n",
              "document.getElementById(\"webcam-but-start\").onclick = function () { start(); }\n",
              "document.getElementById(\"webcam-but-stop\").onclick = function () { stop(); }\n",
              "\n",
              "function webcam_is_on () { return stream !== null; }\n",
              "function dim () { return [video.videoWidth,video.videoHeight]; }\n",
              "\t\n",
              "// SHOW AND CAPTURE A PICTURE\n",
              "var canvas =  document.createElement('canvas');\n",
              "var image = document.getElementById(\"image\");\n",
              "\n",
              "function showimg (imgb64) { image.src = imgb64; }\n",
              "\n",
              "async function capture () {\n",
              "\treturn await new Promise( // wait for the promise to be completed\n",
              "\t\tfunction (resolve, reject) {\n",
              "\t\t\tpendingResolve = resolve;\n",
              "\t\t\t// set width and height to match the webcam\n",
              "\t\t\tcanvas.width = video.videoWidth; \n",
              "\t\t\tcanvas.height = video.videoHeight;\n",
              "\t\t\tcanvas.getContext('2d').drawImage(video, 0, 0); // draw the video onto it\n",
              "\t\t\tresult = canvas.toDataURL('image/jpeg', 0.8); // screenshot the canvas\n",
              "\t\t\tpendingResolve(result); })}\n",
              "\n",
              "// CODE FOR THE MEMO BUTTON \n",
              "// make the button responsive\n",
              "var modal = document.getElementById(\"myModal\");\n",
              "var modalImg = document.getElementById(\"img01\");\n",
              "var memo = document.getElementById(\"memo\")\n",
              "memo.onclick = function(){ modal.style.display = \"block\"; }\n",
              "// close when cross is pressed\n",
              "var span = document.querySelector(\"#myModal .close\");\n",
              "span.onclick = function () { modal.style.display = \"none\"; }\n",
              "\n",
              "// CODE FOR HSV SETTER\n",
              "ids = [\"h0\",\"s0\",\"v0\",\"h1\",\"s1\",\"v1\"]\n",
              "values = [0,0,0,255,255,255]\n",
              "inputs = document.querySelectorAll('#HSV-div input');\n",
              "\n",
              "for (i=0; i<6; i++) {\n",
              "  inputs[i].setAttribute('id', ids[i]);\n",
              "  inputs[i].setAttribute('type', 'number');\n",
              "  inputs[i].setAttribute('min', '0');\n",
              "  inputs[i].setAttribute('max', '255');\n",
              "  inputs[i].setAttribute('value', values[i]);\n",
              "}\n",
              "\n",
              "async function HSV_from() {\n",
              "  from_ = [\n",
              "    document.getElementById(\"h0\").value,\n",
              "    document.getElementById(\"s0\").value,\n",
              "    document.getElementById(\"v0\").value ];\n",
              "  return await from_;\n",
              "}\n",
              "\n",
              "async function HSV_to() {\n",
              "  to = [\n",
              "    document.getElementById(\"h1\").value,\n",
              "    document.getElementById(\"s1\").value,\n",
              "    document.getElementById(\"v1\").value];\n",
              "  return await to;\n",
              "} \n",
              "</script>\n",
              "</html>\n"
            ],
            "text/plain": [
              "<IPython.core.display.HTML object>"
            ]
          },
          "metadata": {
            "tags": []
          }
        }
      ]
    },
    {
      "cell_type": "code",
      "metadata": {
        "id": "xGQTzhRa6CED",
        "colab_type": "code",
        "colab": {}
      },
      "source": [
        ""
      ],
      "execution_count": 0,
      "outputs": []
    }
  ]
}